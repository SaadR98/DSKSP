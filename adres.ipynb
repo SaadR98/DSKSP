# Import necessary modules and functions

import pandas as pd
import numpy as np

import geopandas
import geopy
from shapely.geometry import Point
import shapely.wkt
from geopy.geocoders import Nominatim


import matplotlib.pyplot as plt
%matplotlib inline

from matplotlib.pylab import rcParams
rcParams['figure.figsize'] = 16, 8

from scipy.stats import norm
from scipy import stats

from sklearn.preprocessing import StandardScaler
from sklearn.model_selection import train_test_split
from sklearn.linear_model import LinearRegression

import warnings
warnings.filterwarnings('ignore')

df = pd.read_csv('KS_train_data.csv', delimiter = ',')


df['Val_Diff'] = df['deadline'] - df['created_at']

df = df.drop(columns=["backers_count", "blurb", "category", "converted_pledged_amount", "country", "fx_rate", "goal", "launched_at", "created_at", "currency", "deadline", "pledged", "staff_pick", "usd_pledged", "funded", "subcategory", "Val_Diff", "name", "project_id", "project_url", "reward_url"])

df = df.iloc[:20]
print(df)

geolocator = Nominatim(timeout=10, user_agent = "myGeolocator")
location = geolocator.geocode('Paonia')
print(location)
print((location.latitude, location.longitude))

df['gcode'] = df.location.apply(geolocator.geocode)

df['lat'] = [g.latitude for g in df.gcode]
df['long'] = [g.longitude for g in df.gcode]

print(df)
