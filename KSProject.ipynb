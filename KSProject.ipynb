# Import necessary modules and functions

import pandas as pd
import seaborn as sns
import numpy as np

import matplotlib.pyplot as plt
%matplotlib inline

from matplotlib.pylab import rcParams
rcParams['figure.figsize'] = 16, 8

from scipy.stats import norm
from scipy import stats

from sklearn.preprocessing import StandardScaler
from sklearn.model_selection import train_test_split
from sklearn.linear_model import LinearRegression

import warnings
warnings.filterwarnings('ignore')

kaggle_df = pd.read_csv('KS_train_data.csv', delimiter = ',')

N = 2
# Drop last 2 columns of dataframe
df.drop(columns=df.columns[-N:], 
        axis=1, 
        inplace=True)
print("Modified Dataframe : ")
print(df)

